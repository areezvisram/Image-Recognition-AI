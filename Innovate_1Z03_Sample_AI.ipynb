{
  "nbformat": 4,
  "nbformat_minor": 0,
  "metadata": {
    "colab": {
      "name": "Innovate 1Z03 Sample AI.ipynb",
      "provenance": [],
      "collapsed_sections": []
    },
    "kernelspec": {
      "name": "python3",
      "display_name": "Python 3"
    }
  },
  "cells": [
    {
      "cell_type": "code",
      "metadata": {
        "id": "yp1xy9Ayc_wi",
        "colab_type": "code",
        "colab": {}
      },
      "source": [
        "# deps\n",
        "!pip3 install --upgrade tensorflow\n",
        "!pip3 install numpy\n",
        "!pip3 install scipy\n",
        "!pip3 install opencv-python\n",
        "!pip3 install matplotlib\n",
        "!pip3 install h5py\n",
        "!pip3 install keras\n",
        "!pip3 install https://github.com/OlafenwaMoses/ImageAI/releases/download/2.0.2/imageai-2.0.2-py3-none-any.whl"
      ],
      "execution_count": null,
      "outputs": []
    },
    {
      "cell_type": "code",
      "metadata": {
        "id": "LFmF4GqJYG8u",
        "colab_type": "code",
        "colab": {}
      },
      "source": [
        "# Created By: Areez Visram\n",
        "# Innovate 1Z03 - McMaster University \n",
        "# This AI is a sample algorithm that would be used to identify cancer cells, as outlined in our report\n",
        "# This AI uses the ImageAI open source library to analyze and predict images\n",
        "# This AI works best for real-world objects such as cars or soccer balls\n",
        "# INSTRUCTIONS:\n",
        "#   - On the left side of the notebook, there is a section for \"Files\". This is where the dataset and image are being loaded from\n",
        "#   - Please download the sample image at: https://drive.google.com/file/d/1EsT0xhII0gRwAXSF111kpAOpJRU8kp_y/view?usp=sharing\n",
        "#   - Please download the sample dataset at: https://drive.google.com/file/d/1lNewsMyrGQ9z-dWFfYOaObN9ZRei1N_O/view?usp=sharing\n",
        "#   - Once you have downloaded these, please go to the \"Files\" section and upload them\n",
        "#   - If you wish to change the dataset or image being analyzed, please upload it under the \"Files\" section and change the file name in the Steps labelled 1 and 2 below\n",
        "# DEPENDENCIES: Please install the following dependencies before running:\n",
        "    #!pip3 install --upgrade tensorflow\n",
        "    #!pip3 install numpy\n",
        "    #!pip3 install scipy\n",
        "    #!pip3 install opencv-python\n",
        "    #!pip3 install matplotlib\n",
        "    #!pip3 install h5py\n",
        "    #!pip3 install keras\n",
        "    #!pip3 install https://github.com/OlafenwaMoses/ImageAI/releases/download/2.0.2/imageai-2.0.2-py3-none-any.whl\n",
        "\n",
        "\n",
        "\n",
        "from imageai.Prediction import ImagePrediction\n",
        "import os\n",
        "import ctypes\n",
        "\n",
        "prediction = ImagePrediction()\n",
        "prediction.setModelTypeAsResNet()\n",
        "\n",
        "# 1. This is the dataset file that the model is trained on\n",
        "prediction.setModelPath(\"/content/resnet50_weights_tf_dim_ordering_tf_kernels.h5\")\n",
        "prediction.loadModel()\n",
        "print(\"The object is: \")\n",
        "\n",
        "# 2. This is the image file that the AI is analyzing\n",
        "predictions, percentage_probabilities = prediction.predictImage('/content/sample.jpg', result_count=5)\n",
        "for index in range(len(predictions)):\n",
        "    print(predictions[index], \" : \", percentage_probabilities[index], \"%\")"
      ],
      "execution_count": null,
      "outputs": []
    }
  ]
}